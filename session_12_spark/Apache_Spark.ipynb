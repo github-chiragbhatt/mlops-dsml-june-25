{
  "nbformat": 4,
  "nbformat_minor": 0,
  "metadata": {
    "colab": {
      "provenance": []
    },
    "kernelspec": {
      "name": "python3",
      "display_name": "Python 3"
    },
    "language_info": {
      "name": "python"
    }
  },
  "cells": [
    {
      "cell_type": "markdown",
      "source": [
        "# Inverted Indexing"
      ],
      "metadata": {
        "id": "k-c84q750BSo"
      }
    },
    {
      "cell_type": "code",
      "source": [
        "import pandas as pd\n",
        "import numpy as np\n",
        "\n",
        "# 🔹 Step 1: Create dummy data (10 small docs)\n",
        "docs = pd.DataFrame({\n",
        "    'doc_id': np.arange(1, 11),\n",
        "    'content': [\n",
        "        \"the quick brown fox\",\n",
        "        \"jumps over the lazy dog\",\n",
        "        \"never jump over the lazy dog quickly\",\n",
        "        \"bright sun in the blue sky\",\n",
        "        \"the fox is quick and clever\",\n",
        "        \"big data means big power\",\n",
        "        \"data science and machine learning\",\n",
        "        \"machine learning is fun\",\n",
        "        \"fun with pandas and numpy\",\n",
        "        \"numpy and pandas are great\"\n",
        "    ]\n",
        "})\n",
        "\n",
        "print(\"▶️ Documents:\")\n",
        "print(docs)"
      ],
      "metadata": {
        "colab": {
          "base_uri": "https://localhost:8080/"
        },
        "id": "RbOUBd8jbbhV",
        "outputId": "266584fc-391b-4dde-eeed-747db186ae96"
      },
      "execution_count": null,
      "outputs": [
        {
          "output_type": "stream",
          "name": "stdout",
          "text": [
            "▶️ Documents:\n",
            "   doc_id                               content\n",
            "0       1                   the quick brown fox\n",
            "1       2               jumps over the lazy dog\n",
            "2       3  never jump over the lazy dog quickly\n",
            "3       4            bright sun in the blue sky\n",
            "4       5           the fox is quick and clever\n",
            "5       6              big data means big power\n",
            "6       7     data science and machine learning\n",
            "7       8               machine learning is fun\n",
            "8       9             fun with pandas and numpy\n",
            "9      10            numpy and pandas are great\n"
          ]
        }
      ]
    },
    {
      "cell_type": "code",
      "source": [
        "# 🔹 Step 2: Map phase - tokenize and emit (word, doc_id)\n",
        "mapped = []\n",
        "\n",
        "for _, row in docs.iterrows():\n",
        "    doc_id = row['doc_id']\n",
        "    words = row['content'].lower().split()\n",
        "    for word in words:\n",
        "        mapped.append({'word': word, 'doc_id': doc_id})\n",
        "\n",
        "mapped_df = pd.DataFrame(mapped)\n",
        "\n",
        "print(\"\\n▶️ Map Phase Output:\")\n",
        "print(mapped_df.head(20))\n"
      ],
      "metadata": {
        "colab": {
          "base_uri": "https://localhost:8080/"
        },
        "id": "4xCalq8Cbbfc",
        "outputId": "449b3a05-59dd-44da-bbfd-8f808fd2b5f1"
      },
      "execution_count": null,
      "outputs": [
        {
          "output_type": "stream",
          "name": "stdout",
          "text": [
            "\n",
            "▶️ Map Phase Output:\n",
            "       word  doc_id\n",
            "0       the       1\n",
            "1     quick       1\n",
            "2     brown       1\n",
            "3       fox       1\n",
            "4     jumps       2\n",
            "5      over       2\n",
            "6       the       2\n",
            "7      lazy       2\n",
            "8       dog       2\n",
            "9     never       3\n",
            "10     jump       3\n",
            "11     over       3\n",
            "12      the       3\n",
            "13     lazy       3\n",
            "14      dog       3\n",
            "15  quickly       3\n",
            "16   bright       4\n",
            "17      sun       4\n",
            "18       in       4\n",
            "19      the       4\n"
          ]
        }
      ]
    },
    {
      "cell_type": "code",
      "source": [
        "# 🔹 Step 3: Shuffle phase - group by word\n",
        "grouped = mapped_df.groupby('word')['doc_id'].apply(list).reset_index()\n",
        "\n",
        "print(\"\\n▶️ Shuffle Phase Output (partial):\")\n",
        "print(grouped.head(10))"
      ],
      "metadata": {
        "colab": {
          "base_uri": "https://localhost:8080/"
        },
        "id": "wPraWPYObbdT",
        "outputId": "6d1689ca-7510-4832-b0c6-7597c4b8b1c9"
      },
      "execution_count": null,
      "outputs": [
        {
          "output_type": "stream",
          "name": "stdout",
          "text": [
            "\n",
            "▶️ Shuffle Phase Output (partial):\n",
            "     word         doc_id\n",
            "0     and  [5, 7, 9, 10]\n",
            "1     are           [10]\n",
            "2     big         [6, 6]\n",
            "3    blue            [4]\n",
            "4  bright            [4]\n",
            "5   brown            [1]\n",
            "6  clever            [5]\n",
            "7    data         [6, 7]\n",
            "8     dog         [2, 3]\n",
            "9     fox         [1, 5]\n"
          ]
        }
      ]
    },
    {
      "cell_type": "code",
      "source": [
        "# 🔹 Step 4: Reduce phase - unique doc IDs per word\n",
        "grouped['doc_ids'] = grouped['doc_id'].apply(lambda x: sorted(list(set(x))))\n",
        "#grouped = grouped.drop(columns=['doc_id'])\n",
        "\n",
        "print(\"\\n▶️ Final Inverted Index:\")\n",
        "print(grouped)"
      ],
      "metadata": {
        "colab": {
          "base_uri": "https://localhost:8080/"
        },
        "id": "lY3e4iUubba6",
        "outputId": "b6add17d-b9e9-4daa-949d-916f2b1ed58c"
      },
      "execution_count": null,
      "outputs": [
        {
          "output_type": "stream",
          "name": "stdout",
          "text": [
            "\n",
            "▶️ Final Inverted Index:\n",
            "        word           doc_id          doc_ids\n",
            "0        and    [5, 7, 9, 10]    [5, 7, 9, 10]\n",
            "1        are             [10]             [10]\n",
            "2        big           [6, 6]              [6]\n",
            "3       blue              [4]              [4]\n",
            "4     bright              [4]              [4]\n",
            "5      brown              [1]              [1]\n",
            "6     clever              [5]              [5]\n",
            "7       data           [6, 7]           [6, 7]\n",
            "8        dog           [2, 3]           [2, 3]\n",
            "9        fox           [1, 5]           [1, 5]\n",
            "10       fun           [8, 9]           [8, 9]\n",
            "11     great             [10]             [10]\n",
            "12        in              [4]              [4]\n",
            "13        is           [5, 8]           [5, 8]\n",
            "14      jump              [3]              [3]\n",
            "15     jumps              [2]              [2]\n",
            "16      lazy           [2, 3]           [2, 3]\n",
            "17  learning           [7, 8]           [7, 8]\n",
            "18   machine           [7, 8]           [7, 8]\n",
            "19     means              [6]              [6]\n",
            "20     never              [3]              [3]\n",
            "21     numpy          [9, 10]          [9, 10]\n",
            "22      over           [2, 3]           [2, 3]\n",
            "23    pandas          [9, 10]          [9, 10]\n",
            "24     power              [6]              [6]\n",
            "25     quick           [1, 5]           [1, 5]\n",
            "26   quickly              [3]              [3]\n",
            "27   science              [7]              [7]\n",
            "28       sky              [4]              [4]\n",
            "29       sun              [4]              [4]\n",
            "30       the  [1, 2, 3, 4, 5]  [1, 2, 3, 4, 5]\n",
            "31      with              [9]              [9]\n"
          ]
        }
      ]
    },
    {
      "cell_type": "code",
      "source": [
        "# Search query\n",
        "query = \"the dog\"\n",
        "tokens = query.lower().split()\n",
        "\n",
        "print(\"\\n🔍 Searching for:\", tokens)\n",
        "\n",
        "# Lookup inverted index\n",
        "inverted_index = dict(zip(grouped['word'], grouped['doc_id']))\n",
        "\n",
        "# Collect doc lists for each token\n",
        "doc_sets = []\n",
        "for token in tokens:\n",
        "    doc_list = inverted_index.get(token, [])\n",
        "    print(f\"Word '{token}' found in docs: {doc_list}\")\n",
        "    doc_sets.append(set(doc_list))\n",
        "\n",
        "# Intersection (AND search)\n",
        "if doc_sets:\n",
        "    relevant_docs = set.intersection(*doc_sets)\n",
        "else:\n",
        "    relevant_docs = set()\n",
        "\n",
        "print(\"\\n✅ Relevant docs (AND search):\", relevant_docs)\n",
        "\n",
        "# Show matched content\n",
        "print(\"\\n📄 Matching Documents:\")\n",
        "print(docs[docs['doc_id'].isin(relevant_docs)])"
      ],
      "metadata": {
        "colab": {
          "base_uri": "https://localhost:8080/"
        },
        "id": "xnXD4xmooolO",
        "outputId": "6bb7cb6a-9505-4fd3-e98b-c806fbe1bf84"
      },
      "execution_count": null,
      "outputs": [
        {
          "output_type": "stream",
          "name": "stdout",
          "text": [
            "\n",
            "🔍 Searching for: ['the', 'dog']\n",
            "Word 'the' found in docs: [1, 2, 3, 4, 5]\n",
            "Word 'dog' found in docs: [2, 3]\n",
            "\n",
            "✅ Relevant docs (AND search): {2, 3}\n",
            "\n",
            "📄 Matching Documents:\n",
            "   doc_id                               content\n",
            "1       2               jumps over the lazy dog\n",
            "2       3  never jump over the lazy dog quickly\n"
          ]
        }
      ]
    },
    {
      "cell_type": "code",
      "source": [
        "# Search query\n",
        "query = \"great dog\"\n",
        "tokens = query.lower().split()\n",
        "\n",
        "print(\"\\n🔍 Searching for:\", tokens)\n",
        "\n",
        "# Lookup inverted index\n",
        "inverted_index = dict(zip(grouped['word'], grouped['doc_id']))\n",
        "\n",
        "# Collect doc lists for each token\n",
        "doc_sets = []\n",
        "for token in tokens:\n",
        "    doc_list = inverted_index.get(token, [])\n",
        "    print(f\"Word '{token}' found in docs: {doc_list}\")\n",
        "    doc_sets.append(set(doc_list))\n",
        "\n",
        "# Intersection (AND search)\n",
        "if doc_sets:\n",
        "    relevant_docs = set.intersection(*doc_sets)\n",
        "else:\n",
        "    relevant_docs = set()\n",
        "\n",
        "print(\"\\n✅ Relevant docs (AND search):\", relevant_docs)\n",
        "\n",
        "# Show matched content\n",
        "print(\"\\n📄 Matching Documents:\")\n",
        "print(docs[docs['doc_id'].isin(relevant_docs)])"
      ],
      "metadata": {
        "colab": {
          "base_uri": "https://localhost:8080/"
        },
        "id": "TmyX8HB9o_Fc",
        "outputId": "930ddafe-5959-4833-f668-f012157d184f"
      },
      "execution_count": null,
      "outputs": [
        {
          "output_type": "stream",
          "name": "stdout",
          "text": [
            "\n",
            "🔍 Searching for: ['great', 'dog']\n",
            "Word 'great' found in docs: [10]\n",
            "Word 'dog' found in docs: [2, 3]\n",
            "\n",
            "✅ Relevant docs (AND search): set()\n",
            "\n",
            "📄 Matching Documents:\n",
            "Empty DataFrame\n",
            "Columns: [doc_id, content]\n",
            "Index: []\n"
          ]
        }
      ]
    },
    {
      "cell_type": "markdown",
      "source": [
        "# Apache spark"
      ],
      "metadata": {
        "id": "ayInrgym9EIn"
      }
    },
    {
      "cell_type": "code",
      "source": [
        "!pip install pyspark py4j"
      ],
      "metadata": {
        "id": "_4Patbtybb8Z",
        "colab": {
          "base_uri": "https://localhost:8080/"
        },
        "outputId": "7b4428f9-f3fe-4c34-c658-c9d8a8e83e0a"
      },
      "execution_count": 8,
      "outputs": [
        {
          "output_type": "stream",
          "name": "stdout",
          "text": [
            "Requirement already satisfied: pyspark in /usr/local/lib/python3.11/dist-packages (3.5.1)\n",
            "Requirement already satisfied: py4j in /usr/local/lib/python3.11/dist-packages (0.10.9.7)\n"
          ]
        }
      ]
    },
    {
      "cell_type": "code",
      "source": [
        "# include stdio.h\n",
        "# include <iostream>\n",
        "\n",
        "# public static void main println\n",
        "\n",
        "\n",
        "# Import SparkSession\n",
        "from pyspark.sql import SparkSession\n",
        "# Create a Spark Session\n",
        "spark = SparkSession.builder.master(\"local[*]\").getOrCreate()\n",
        "# Check Spark Session Information\n",
        "spark"
      ],
      "metadata": {
        "id": "jbGQ0IV_bb6C"
      },
      "execution_count": 9,
      "outputs": []
    },
    {
      "cell_type": "code",
      "source": [
        "spark"
      ],
      "metadata": {
        "id": "8APicOp-bb3U",
        "colab": {
          "base_uri": "https://localhost:8080/",
          "height": 219
        },
        "outputId": "266fcc48-823a-452e-87fc-f2275fc54afe"
      },
      "execution_count": 10,
      "outputs": [
        {
          "output_type": "execute_result",
          "data": {
            "text/plain": [
              "<pyspark.sql.session.SparkSession at 0x78315cb39fd0>"
            ],
            "text/html": [
              "\n",
              "            <div>\n",
              "                <p><b>SparkSession - in-memory</b></p>\n",
              "                \n",
              "        <div>\n",
              "            <p><b>SparkContext</b></p>\n",
              "\n",
              "            <p><a href=\"http://14a87e1966bb:4040\">Spark UI</a></p>\n",
              "\n",
              "            <dl>\n",
              "              <dt>Version</dt>\n",
              "                <dd><code>v3.5.1</code></dd>\n",
              "              <dt>Master</dt>\n",
              "                <dd><code>local[*]</code></dd>\n",
              "              <dt>AppName</dt>\n",
              "                <dd><code>pyspark-shell</code></dd>\n",
              "            </dl>\n",
              "        </div>\n",
              "        \n",
              "            </div>\n",
              "        "
            ]
          },
          "metadata": {},
          "execution_count": 10
        }
      ]
    },
    {
      "cell_type": "code",
      "source": [
        "!curl https://raw.githubusercontent.com/markumreed/colab_pyspark/main/WMT.csv >> WMT.csv\n"
      ],
      "metadata": {
        "id": "tpogI_0Ybb1C",
        "colab": {
          "base_uri": "https://localhost:8080/"
        },
        "outputId": "3a835e64-6113-4b5e-d61f-ba0857f05354"
      },
      "execution_count": 11,
      "outputs": [
        {
          "output_type": "stream",
          "name": "stdout",
          "text": [
            "  % Total    % Received % Xferd  Average Speed   Time    Time     Time  Current\n",
            "                                 Dload  Upload   Total   Spent    Left  Speed\n",
            "100 89556  100 89556    0     0   358k      0 --:--:-- --:--:-- --:--:--  359k\n"
          ]
        }
      ]
    },
    {
      "cell_type": "code",
      "source": [
        "import pandas as pd\n",
        "\n",
        "pd_df = pd.read_csv(\"WMT.csv\")\n",
        "pd_df.info()\n"
      ],
      "metadata": {
        "colab": {
          "base_uri": "https://localhost:8080/"
        },
        "id": "sUus9do0xWgk",
        "outputId": "edde3877-b77e-4b3c-dd05-349639173c9c"
      },
      "execution_count": 12,
      "outputs": [
        {
          "output_type": "stream",
          "name": "stdout",
          "text": [
            "<class 'pandas.core.frame.DataFrame'>\n",
            "RangeIndex: 1259 entries, 0 to 1258\n",
            "Data columns (total 7 columns):\n",
            " #   Column     Non-Null Count  Dtype  \n",
            "---  ------     --------------  -----  \n",
            " 0   Date       1259 non-null   object \n",
            " 1   Open       1259 non-null   float64\n",
            " 2   High       1259 non-null   float64\n",
            " 3   Low        1259 non-null   float64\n",
            " 4   Close      1259 non-null   float64\n",
            " 5   Adj Close  1259 non-null   float64\n",
            " 6   Volume     1259 non-null   int64  \n",
            "dtypes: float64(5), int64(1), object(1)\n",
            "memory usage: 69.0+ KB\n"
          ]
        }
      ]
    },
    {
      "cell_type": "code",
      "source": [
        "pd_df.head()"
      ],
      "metadata": {
        "colab": {
          "base_uri": "https://localhost:8080/",
          "height": 206
        },
        "id": "PbRSY6GpxWeF",
        "outputId": "55934662-f144-4e45-b63a-f489dbc7b84c"
      },
      "execution_count": 13,
      "outputs": [
        {
          "output_type": "execute_result",
          "data": {
            "text/plain": [
              "         Date       Open       High        Low      Close  Adj Close    Volume\n",
              "0  2016-01-20  61.799999  62.330002  60.200001  60.840000  53.990601  17369100\n",
              "1  2016-01-21  60.980000  62.790001  60.910000  61.880001  54.913509  12089200\n",
              "2  2016-01-22  62.439999  63.259998  62.130001  62.689999  55.632324   9197500\n",
              "3  2016-01-25  62.779999  63.820000  62.549999  63.450001  56.306763  12823400\n",
              "4  2016-01-26  63.360001  64.470001  63.259998  64.000000  56.794834   9441200"
            ],
            "text/html": [
              "\n",
              "  <div id=\"df-29e036fa-b4f7-4e09-888c-b3bd93bdba75\" class=\"colab-df-container\">\n",
              "    <div>\n",
              "<style scoped>\n",
              "    .dataframe tbody tr th:only-of-type {\n",
              "        vertical-align: middle;\n",
              "    }\n",
              "\n",
              "    .dataframe tbody tr th {\n",
              "        vertical-align: top;\n",
              "    }\n",
              "\n",
              "    .dataframe thead th {\n",
              "        text-align: right;\n",
              "    }\n",
              "</style>\n",
              "<table border=\"1\" class=\"dataframe\">\n",
              "  <thead>\n",
              "    <tr style=\"text-align: right;\">\n",
              "      <th></th>\n",
              "      <th>Date</th>\n",
              "      <th>Open</th>\n",
              "      <th>High</th>\n",
              "      <th>Low</th>\n",
              "      <th>Close</th>\n",
              "      <th>Adj Close</th>\n",
              "      <th>Volume</th>\n",
              "    </tr>\n",
              "  </thead>\n",
              "  <tbody>\n",
              "    <tr>\n",
              "      <th>0</th>\n",
              "      <td>2016-01-20</td>\n",
              "      <td>61.799999</td>\n",
              "      <td>62.330002</td>\n",
              "      <td>60.200001</td>\n",
              "      <td>60.840000</td>\n",
              "      <td>53.990601</td>\n",
              "      <td>17369100</td>\n",
              "    </tr>\n",
              "    <tr>\n",
              "      <th>1</th>\n",
              "      <td>2016-01-21</td>\n",
              "      <td>60.980000</td>\n",
              "      <td>62.790001</td>\n",
              "      <td>60.910000</td>\n",
              "      <td>61.880001</td>\n",
              "      <td>54.913509</td>\n",
              "      <td>12089200</td>\n",
              "    </tr>\n",
              "    <tr>\n",
              "      <th>2</th>\n",
              "      <td>2016-01-22</td>\n",
              "      <td>62.439999</td>\n",
              "      <td>63.259998</td>\n",
              "      <td>62.130001</td>\n",
              "      <td>62.689999</td>\n",
              "      <td>55.632324</td>\n",
              "      <td>9197500</td>\n",
              "    </tr>\n",
              "    <tr>\n",
              "      <th>3</th>\n",
              "      <td>2016-01-25</td>\n",
              "      <td>62.779999</td>\n",
              "      <td>63.820000</td>\n",
              "      <td>62.549999</td>\n",
              "      <td>63.450001</td>\n",
              "      <td>56.306763</td>\n",
              "      <td>12823400</td>\n",
              "    </tr>\n",
              "    <tr>\n",
              "      <th>4</th>\n",
              "      <td>2016-01-26</td>\n",
              "      <td>63.360001</td>\n",
              "      <td>64.470001</td>\n",
              "      <td>63.259998</td>\n",
              "      <td>64.000000</td>\n",
              "      <td>56.794834</td>\n",
              "      <td>9441200</td>\n",
              "    </tr>\n",
              "  </tbody>\n",
              "</table>\n",
              "</div>\n",
              "    <div class=\"colab-df-buttons\">\n",
              "\n",
              "  <div class=\"colab-df-container\">\n",
              "    <button class=\"colab-df-convert\" onclick=\"convertToInteractive('df-29e036fa-b4f7-4e09-888c-b3bd93bdba75')\"\n",
              "            title=\"Convert this dataframe to an interactive table.\"\n",
              "            style=\"display:none;\">\n",
              "\n",
              "  <svg xmlns=\"http://www.w3.org/2000/svg\" height=\"24px\" viewBox=\"0 -960 960 960\">\n",
              "    <path d=\"M120-120v-720h720v720H120Zm60-500h600v-160H180v160Zm220 220h160v-160H400v160Zm0 220h160v-160H400v160ZM180-400h160v-160H180v160Zm440 0h160v-160H620v160ZM180-180h160v-160H180v160Zm440 0h160v-160H620v160Z\"/>\n",
              "  </svg>\n",
              "    </button>\n",
              "\n",
              "  <style>\n",
              "    .colab-df-container {\n",
              "      display:flex;\n",
              "      gap: 12px;\n",
              "    }\n",
              "\n",
              "    .colab-df-convert {\n",
              "      background-color: #E8F0FE;\n",
              "      border: none;\n",
              "      border-radius: 50%;\n",
              "      cursor: pointer;\n",
              "      display: none;\n",
              "      fill: #1967D2;\n",
              "      height: 32px;\n",
              "      padding: 0 0 0 0;\n",
              "      width: 32px;\n",
              "    }\n",
              "\n",
              "    .colab-df-convert:hover {\n",
              "      background-color: #E2EBFA;\n",
              "      box-shadow: 0px 1px 2px rgba(60, 64, 67, 0.3), 0px 1px 3px 1px rgba(60, 64, 67, 0.15);\n",
              "      fill: #174EA6;\n",
              "    }\n",
              "\n",
              "    .colab-df-buttons div {\n",
              "      margin-bottom: 4px;\n",
              "    }\n",
              "\n",
              "    [theme=dark] .colab-df-convert {\n",
              "      background-color: #3B4455;\n",
              "      fill: #D2E3FC;\n",
              "    }\n",
              "\n",
              "    [theme=dark] .colab-df-convert:hover {\n",
              "      background-color: #434B5C;\n",
              "      box-shadow: 0px 1px 3px 1px rgba(0, 0, 0, 0.15);\n",
              "      filter: drop-shadow(0px 1px 2px rgba(0, 0, 0, 0.3));\n",
              "      fill: #FFFFFF;\n",
              "    }\n",
              "  </style>\n",
              "\n",
              "    <script>\n",
              "      const buttonEl =\n",
              "        document.querySelector('#df-29e036fa-b4f7-4e09-888c-b3bd93bdba75 button.colab-df-convert');\n",
              "      buttonEl.style.display =\n",
              "        google.colab.kernel.accessAllowed ? 'block' : 'none';\n",
              "\n",
              "      async function convertToInteractive(key) {\n",
              "        const element = document.querySelector('#df-29e036fa-b4f7-4e09-888c-b3bd93bdba75');\n",
              "        const dataTable =\n",
              "          await google.colab.kernel.invokeFunction('convertToInteractive',\n",
              "                                                    [key], {});\n",
              "        if (!dataTable) return;\n",
              "\n",
              "        const docLinkHtml = 'Like what you see? Visit the ' +\n",
              "          '<a target=\"_blank\" href=https://colab.research.google.com/notebooks/data_table.ipynb>data table notebook</a>'\n",
              "          + ' to learn more about interactive tables.';\n",
              "        element.innerHTML = '';\n",
              "        dataTable['output_type'] = 'display_data';\n",
              "        await google.colab.output.renderOutput(dataTable, element);\n",
              "        const docLink = document.createElement('div');\n",
              "        docLink.innerHTML = docLinkHtml;\n",
              "        element.appendChild(docLink);\n",
              "      }\n",
              "    </script>\n",
              "  </div>\n",
              "\n",
              "\n",
              "    <div id=\"df-926fb0be-5bff-4e58-bdd5-33729da1073f\">\n",
              "      <button class=\"colab-df-quickchart\" onclick=\"quickchart('df-926fb0be-5bff-4e58-bdd5-33729da1073f')\"\n",
              "                title=\"Suggest charts\"\n",
              "                style=\"display:none;\">\n",
              "\n",
              "<svg xmlns=\"http://www.w3.org/2000/svg\" height=\"24px\"viewBox=\"0 0 24 24\"\n",
              "     width=\"24px\">\n",
              "    <g>\n",
              "        <path d=\"M19 3H5c-1.1 0-2 .9-2 2v14c0 1.1.9 2 2 2h14c1.1 0 2-.9 2-2V5c0-1.1-.9-2-2-2zM9 17H7v-7h2v7zm4 0h-2V7h2v10zm4 0h-2v-4h2v4z\"/>\n",
              "    </g>\n",
              "</svg>\n",
              "      </button>\n",
              "\n",
              "<style>\n",
              "  .colab-df-quickchart {\n",
              "      --bg-color: #E8F0FE;\n",
              "      --fill-color: #1967D2;\n",
              "      --hover-bg-color: #E2EBFA;\n",
              "      --hover-fill-color: #174EA6;\n",
              "      --disabled-fill-color: #AAA;\n",
              "      --disabled-bg-color: #DDD;\n",
              "  }\n",
              "\n",
              "  [theme=dark] .colab-df-quickchart {\n",
              "      --bg-color: #3B4455;\n",
              "      --fill-color: #D2E3FC;\n",
              "      --hover-bg-color: #434B5C;\n",
              "      --hover-fill-color: #FFFFFF;\n",
              "      --disabled-bg-color: #3B4455;\n",
              "      --disabled-fill-color: #666;\n",
              "  }\n",
              "\n",
              "  .colab-df-quickchart {\n",
              "    background-color: var(--bg-color);\n",
              "    border: none;\n",
              "    border-radius: 50%;\n",
              "    cursor: pointer;\n",
              "    display: none;\n",
              "    fill: var(--fill-color);\n",
              "    height: 32px;\n",
              "    padding: 0;\n",
              "    width: 32px;\n",
              "  }\n",
              "\n",
              "  .colab-df-quickchart:hover {\n",
              "    background-color: var(--hover-bg-color);\n",
              "    box-shadow: 0 1px 2px rgba(60, 64, 67, 0.3), 0 1px 3px 1px rgba(60, 64, 67, 0.15);\n",
              "    fill: var(--button-hover-fill-color);\n",
              "  }\n",
              "\n",
              "  .colab-df-quickchart-complete:disabled,\n",
              "  .colab-df-quickchart-complete:disabled:hover {\n",
              "    background-color: var(--disabled-bg-color);\n",
              "    fill: var(--disabled-fill-color);\n",
              "    box-shadow: none;\n",
              "  }\n",
              "\n",
              "  .colab-df-spinner {\n",
              "    border: 2px solid var(--fill-color);\n",
              "    border-color: transparent;\n",
              "    border-bottom-color: var(--fill-color);\n",
              "    animation:\n",
              "      spin 1s steps(1) infinite;\n",
              "  }\n",
              "\n",
              "  @keyframes spin {\n",
              "    0% {\n",
              "      border-color: transparent;\n",
              "      border-bottom-color: var(--fill-color);\n",
              "      border-left-color: var(--fill-color);\n",
              "    }\n",
              "    20% {\n",
              "      border-color: transparent;\n",
              "      border-left-color: var(--fill-color);\n",
              "      border-top-color: var(--fill-color);\n",
              "    }\n",
              "    30% {\n",
              "      border-color: transparent;\n",
              "      border-left-color: var(--fill-color);\n",
              "      border-top-color: var(--fill-color);\n",
              "      border-right-color: var(--fill-color);\n",
              "    }\n",
              "    40% {\n",
              "      border-color: transparent;\n",
              "      border-right-color: var(--fill-color);\n",
              "      border-top-color: var(--fill-color);\n",
              "    }\n",
              "    60% {\n",
              "      border-color: transparent;\n",
              "      border-right-color: var(--fill-color);\n",
              "    }\n",
              "    80% {\n",
              "      border-color: transparent;\n",
              "      border-right-color: var(--fill-color);\n",
              "      border-bottom-color: var(--fill-color);\n",
              "    }\n",
              "    90% {\n",
              "      border-color: transparent;\n",
              "      border-bottom-color: var(--fill-color);\n",
              "    }\n",
              "  }\n",
              "</style>\n",
              "\n",
              "      <script>\n",
              "        async function quickchart(key) {\n",
              "          const quickchartButtonEl =\n",
              "            document.querySelector('#' + key + ' button');\n",
              "          quickchartButtonEl.disabled = true;  // To prevent multiple clicks.\n",
              "          quickchartButtonEl.classList.add('colab-df-spinner');\n",
              "          try {\n",
              "            const charts = await google.colab.kernel.invokeFunction(\n",
              "                'suggestCharts', [key], {});\n",
              "          } catch (error) {\n",
              "            console.error('Error during call to suggestCharts:', error);\n",
              "          }\n",
              "          quickchartButtonEl.classList.remove('colab-df-spinner');\n",
              "          quickchartButtonEl.classList.add('colab-df-quickchart-complete');\n",
              "        }\n",
              "        (() => {\n",
              "          let quickchartButtonEl =\n",
              "            document.querySelector('#df-926fb0be-5bff-4e58-bdd5-33729da1073f button');\n",
              "          quickchartButtonEl.style.display =\n",
              "            google.colab.kernel.accessAllowed ? 'block' : 'none';\n",
              "        })();\n",
              "      </script>\n",
              "    </div>\n",
              "\n",
              "    </div>\n",
              "  </div>\n"
            ],
            "application/vnd.google.colaboratory.intrinsic+json": {
              "type": "dataframe",
              "variable_name": "pd_df",
              "summary": "{\n  \"name\": \"pd_df\",\n  \"rows\": 1259,\n  \"fields\": [\n    {\n      \"column\": \"Date\",\n      \"properties\": {\n        \"dtype\": \"object\",\n        \"num_unique_values\": 1259,\n        \"samples\": [\n          \"2016-05-09\",\n          \"2020-02-18\",\n          \"2016-03-22\"\n        ],\n        \"semantic_type\": \"\",\n        \"description\": \"\"\n      }\n    },\n    {\n      \"column\": \"Open\",\n      \"properties\": {\n        \"dtype\": \"number\",\n        \"std\": 23.327486443907965,\n        \"min\": 60.98,\n        \"max\": 153.600006,\n        \"num_unique_values\": 1124,\n        \"samples\": [\n          151.169998,\n          116.050003,\n          99.760002\n        ],\n        \"semantic_type\": \"\",\n        \"description\": \"\"\n      }\n    },\n    {\n      \"column\": \"High\",\n      \"properties\": {\n        \"dtype\": \"number\",\n        \"std\": 23.5905384424275,\n        \"min\": 62.330002,\n        \"max\": 153.660004,\n        \"num_unique_values\": 1125,\n        \"samples\": [\n          152.759995,\n          147.509995,\n          102.889999\n        ],\n        \"semantic_type\": \"\",\n        \"description\": \"\"\n      }\n    },\n    {\n      \"column\": \"Low\",\n      \"properties\": {\n        \"dtype\": \"number\",\n        \"std\": 23.019708825126514,\n        \"min\": 60.200001,\n        \"max\": 151.660004,\n        \"num_unique_values\": 1130,\n        \"samples\": [\n          98.099998,\n          114.150002,\n          112.599998\n        ],\n        \"semantic_type\": \"\",\n        \"description\": \"\"\n      }\n    },\n    {\n      \"column\": \"Close\",\n      \"properties\": {\n        \"dtype\": \"number\",\n        \"std\": 23.29286903301373,\n        \"min\": 60.84,\n        \"max\": 152.789993,\n        \"num_unique_values\": 1146,\n        \"samples\": [\n          68.709999,\n          112.019997,\n          86.279999\n        ],\n        \"semantic_type\": \"\",\n        \"description\": \"\"\n      }\n    },\n    {\n      \"column\": \"Adj Close\",\n      \"properties\": {\n        \"dtype\": \"number\",\n        \"std\": 25.335281463390615,\n        \"min\": 53.990601,\n        \"max\": 152.233536,\n        \"num_unique_values\": 1217,\n        \"samples\": [\n          82.956734,\n          63.347897,\n          60.308498\n        ],\n        \"semantic_type\": \"\",\n        \"description\": \"\"\n      }\n    },\n    {\n      \"column\": \"Volume\",\n      \"properties\": {\n        \"dtype\": \"number\",\n        \"std\": 4760478,\n        \"min\": 2227400,\n        \"max\": 56233000,\n        \"num_unique_values\": 1252,\n        \"samples\": [\n          9082100,\n          6250400,\n          5782800\n        ],\n        \"semantic_type\": \"\",\n        \"description\": \"\"\n      }\n    }\n  ]\n}"
            }
          },
          "metadata": {},
          "execution_count": 13
        }
      ]
    },
    {
      "cell_type": "code",
      "source": [
        "df = spark.read.csv('WMT.csv')\n",
        "df.head(10)"
      ],
      "metadata": {
        "colab": {
          "base_uri": "https://localhost:8080/"
        },
        "id": "C6hlSf4exWbx",
        "outputId": "86b20e27-1af8-41eb-c900-b2ebc8e22d9a"
      },
      "execution_count": 18,
      "outputs": [
        {
          "output_type": "execute_result",
          "data": {
            "text/plain": [
              "[Row(_c0='Date', _c1='Open', _c2='High', _c3='Low', _c4='Close', _c5='Adj Close', _c6='Volume'),\n",
              " Row(_c0='2016-01-20', _c1='61.799999', _c2='62.330002', _c3='60.200001', _c4='60.840000', _c5='53.990601', _c6='17369100'),\n",
              " Row(_c0='2016-01-21', _c1='60.980000', _c2='62.790001', _c3='60.910000', _c4='61.880001', _c5='54.913509', _c6='12089200'),\n",
              " Row(_c0='2016-01-22', _c1='62.439999', _c2='63.259998', _c3='62.130001', _c4='62.689999', _c5='55.632324', _c6='9197500'),\n",
              " Row(_c0='2016-01-25', _c1='62.779999', _c2='63.820000', _c3='62.549999', _c4='63.450001', _c5='56.306763', _c6='12823400'),\n",
              " Row(_c0='2016-01-26', _c1='63.360001', _c2='64.470001', _c3='63.259998', _c4='64.000000', _c5='56.794834', _c6='9441200'),\n",
              " Row(_c0='2016-01-27', _c1='64.099998', _c2='65.180000', _c3='63.889999', _c4='63.950001', _c5='56.750477', _c6='10214300'),\n",
              " Row(_c0='2016-01-28', _c1='64.029999', _c2='64.510002', _c3='63.430000', _c4='64.220001', _c5='56.990070', _c6='11278300'),\n",
              " Row(_c0='2016-01-29', _c1='64.750000', _c2='66.529999', _c3='64.739998', _c4='66.360001', _c5='58.889149', _c6='16439100'),\n",
              " Row(_c0='2016-02-01', _c1='65.910004', _c2='67.930000', _c3='65.889999', _c4='67.500000', _c5='59.900810', _c6='14728400')]"
            ]
          },
          "metadata": {},
          "execution_count": 18
        }
      ]
    },
    {
      "cell_type": "code",
      "source": [
        "df.show(5)"
      ],
      "metadata": {
        "colab": {
          "base_uri": "https://localhost:8080/"
        },
        "id": "Hn74iJOmyEzE",
        "outputId": "fab337d0-adce-4963-e3c8-4bb6ded9b363"
      },
      "execution_count": 19,
      "outputs": [
        {
          "output_type": "stream",
          "name": "stdout",
          "text": [
            "+----------+---------+---------+---------+---------+---------+--------+\n",
            "|       _c0|      _c1|      _c2|      _c3|      _c4|      _c5|     _c6|\n",
            "+----------+---------+---------+---------+---------+---------+--------+\n",
            "|      Date|     Open|     High|      Low|    Close|Adj Close|  Volume|\n",
            "|2016-01-20|61.799999|62.330002|60.200001|60.840000|53.990601|17369100|\n",
            "|2016-01-21|60.980000|62.790001|60.910000|61.880001|54.913509|12089200|\n",
            "|2016-01-22|62.439999|63.259998|62.130001|62.689999|55.632324| 9197500|\n",
            "|2016-01-25|62.779999|63.820000|62.549999|63.450001|56.306763|12823400|\n",
            "+----------+---------+---------+---------+---------+---------+--------+\n",
            "only showing top 5 rows\n",
            "\n"
          ]
        }
      ]
    },
    {
      "cell_type": "code",
      "source": [
        "df = spark.read.csv('WMT.csv', header=True)\n",
        "df.head(10)"
      ],
      "metadata": {
        "colab": {
          "base_uri": "https://localhost:8080/"
        },
        "id": "3d61IMC7xWZi",
        "outputId": "7b327320-be98-40e8-bd13-229feda71815"
      },
      "execution_count": 21,
      "outputs": [
        {
          "output_type": "execute_result",
          "data": {
            "text/plain": [
              "[Row(Date='2016-01-20', Open='61.799999', High='62.330002', Low='60.200001', Close='60.840000', Adj Close='53.990601', Volume='17369100'),\n",
              " Row(Date='2016-01-21', Open='60.980000', High='62.790001', Low='60.910000', Close='61.880001', Adj Close='54.913509', Volume='12089200'),\n",
              " Row(Date='2016-01-22', Open='62.439999', High='63.259998', Low='62.130001', Close='62.689999', Adj Close='55.632324', Volume='9197500'),\n",
              " Row(Date='2016-01-25', Open='62.779999', High='63.820000', Low='62.549999', Close='63.450001', Adj Close='56.306763', Volume='12823400'),\n",
              " Row(Date='2016-01-26', Open='63.360001', High='64.470001', Low='63.259998', Close='64.000000', Adj Close='56.794834', Volume='9441200'),\n",
              " Row(Date='2016-01-27', Open='64.099998', High='65.180000', Low='63.889999', Close='63.950001', Adj Close='56.750477', Volume='10214300'),\n",
              " Row(Date='2016-01-28', Open='64.029999', High='64.510002', Low='63.430000', Close='64.220001', Adj Close='56.990070', Volume='11278300'),\n",
              " Row(Date='2016-01-29', Open='64.750000', High='66.529999', Low='64.739998', Close='66.360001', Adj Close='58.889149', Volume='16439100'),\n",
              " Row(Date='2016-02-01', Open='65.910004', High='67.930000', Low='65.889999', Close='67.500000', Adj Close='59.900810', Volume='14728400'),\n",
              " Row(Date='2016-02-02', Open='67.300003', High='67.839996', Low='66.279999', Close='66.860001', Adj Close='59.332867', Volume='13585900')]"
            ]
          },
          "metadata": {},
          "execution_count": 21
        }
      ]
    },
    {
      "cell_type": "code",
      "source": [
        "df.show(5)"
      ],
      "metadata": {
        "colab": {
          "base_uri": "https://localhost:8080/"
        },
        "id": "vJ5DaGdBxWXD",
        "outputId": "32c1e20b-ac19-4cca-c480-bb8fa5821837"
      },
      "execution_count": 22,
      "outputs": [
        {
          "output_type": "stream",
          "name": "stdout",
          "text": [
            "+----------+---------+---------+---------+---------+---------+--------+\n",
            "|      Date|     Open|     High|      Low|    Close|Adj Close|  Volume|\n",
            "+----------+---------+---------+---------+---------+---------+--------+\n",
            "|2016-01-20|61.799999|62.330002|60.200001|60.840000|53.990601|17369100|\n",
            "|2016-01-21|60.980000|62.790001|60.910000|61.880001|54.913509|12089200|\n",
            "|2016-01-22|62.439999|63.259998|62.130001|62.689999|55.632324| 9197500|\n",
            "|2016-01-25|62.779999|63.820000|62.549999|63.450001|56.306763|12823400|\n",
            "|2016-01-26|63.360001|64.470001|63.259998|64.000000|56.794834| 9441200|\n",
            "+----------+---------+---------+---------+---------+---------+--------+\n",
            "only showing top 5 rows\n",
            "\n"
          ]
        }
      ]
    },
    {
      "cell_type": "code",
      "source": [
        "df.printSchema()"
      ],
      "metadata": {
        "colab": {
          "base_uri": "https://localhost:8080/"
        },
        "id": "XpBMVrMFxWUd",
        "outputId": "e15793dc-12e1-451b-9dbb-983f4c4d58b0"
      },
      "execution_count": 23,
      "outputs": [
        {
          "output_type": "stream",
          "name": "stdout",
          "text": [
            "root\n",
            " |-- Date: string (nullable = true)\n",
            " |-- Open: string (nullable = true)\n",
            " |-- High: string (nullable = true)\n",
            " |-- Low: string (nullable = true)\n",
            " |-- Close: string (nullable = true)\n",
            " |-- Adj Close: string (nullable = true)\n",
            " |-- Volume: string (nullable = true)\n",
            "\n"
          ]
        }
      ]
    },
    {
      "cell_type": "code",
      "source": [
        "df = spark.read.csv('WMT.csv', header=True, inferSchema=True)\n",
        "df.head(10)"
      ],
      "metadata": {
        "colab": {
          "base_uri": "https://localhost:8080/"
        },
        "id": "aXahiw0jyLgW",
        "outputId": "d3735f70-11b0-43d0-9e43-962607514b46"
      },
      "execution_count": 24,
      "outputs": [
        {
          "output_type": "execute_result",
          "data": {
            "text/plain": [
              "[Row(Date=datetime.date(2016, 1, 20), Open=61.799999, High=62.330002, Low=60.200001, Close=60.84, Adj Close=53.990601, Volume=17369100),\n",
              " Row(Date=datetime.date(2016, 1, 21), Open=60.98, High=62.790001, Low=60.91, Close=61.880001, Adj Close=54.913509, Volume=12089200),\n",
              " Row(Date=datetime.date(2016, 1, 22), Open=62.439999, High=63.259998, Low=62.130001, Close=62.689999, Adj Close=55.632324, Volume=9197500),\n",
              " Row(Date=datetime.date(2016, 1, 25), Open=62.779999, High=63.82, Low=62.549999, Close=63.450001, Adj Close=56.306763, Volume=12823400),\n",
              " Row(Date=datetime.date(2016, 1, 26), Open=63.360001, High=64.470001, Low=63.259998, Close=64.0, Adj Close=56.794834, Volume=9441200),\n",
              " Row(Date=datetime.date(2016, 1, 27), Open=64.099998, High=65.18, Low=63.889999, Close=63.950001, Adj Close=56.750477, Volume=10214300),\n",
              " Row(Date=datetime.date(2016, 1, 28), Open=64.029999, High=64.510002, Low=63.43, Close=64.220001, Adj Close=56.99007, Volume=11278300),\n",
              " Row(Date=datetime.date(2016, 1, 29), Open=64.75, High=66.529999, Low=64.739998, Close=66.360001, Adj Close=58.889149, Volume=16439100),\n",
              " Row(Date=datetime.date(2016, 2, 1), Open=65.910004, High=67.93, Low=65.889999, Close=67.5, Adj Close=59.90081, Volume=14728400),\n",
              " Row(Date=datetime.date(2016, 2, 2), Open=67.300003, High=67.839996, Low=66.279999, Close=66.860001, Adj Close=59.332867, Volume=13585900)]"
            ]
          },
          "metadata": {},
          "execution_count": 24
        }
      ]
    },
    {
      "cell_type": "code",
      "source": [
        "df.printSchema()"
      ],
      "metadata": {
        "colab": {
          "base_uri": "https://localhost:8080/"
        },
        "id": "p5OV0pzdyTZE",
        "outputId": "bd5d7d5c-a224-46f2-877f-3e3254004151"
      },
      "execution_count": 25,
      "outputs": [
        {
          "output_type": "stream",
          "name": "stdout",
          "text": [
            "root\n",
            " |-- Date: date (nullable = true)\n",
            " |-- Open: double (nullable = true)\n",
            " |-- High: double (nullable = true)\n",
            " |-- Low: double (nullable = true)\n",
            " |-- Close: double (nullable = true)\n",
            " |-- Adj Close: double (nullable = true)\n",
            " |-- Volume: integer (nullable = true)\n",
            "\n"
          ]
        }
      ]
    },
    {
      "cell_type": "code",
      "source": [
        "df.describe().show()"
      ],
      "metadata": {
        "colab": {
          "base_uri": "https://localhost:8080/"
        },
        "id": "LvbD9LaAyYeF",
        "outputId": "b0c2c4ff-db3e-4474-dcb9-8fe4759e0e3d"
      },
      "execution_count": 27,
      "outputs": [
        {
          "output_type": "stream",
          "name": "stdout",
          "text": [
            "+-------+----------------+------------------+------------------+------------------+------------------+-----------------+\n",
            "|summary|            Open|              High|               Low|             Close|         Adj Close|           Volume|\n",
            "+-------+----------------+------------------+------------------+------------------+------------------+-----------------+\n",
            "|  count|            1259|              1259|              1259|              1259|              1259|             1259|\n",
            "|   mean|96.5083001715647| 97.33101670611597| 95.74480543367744| 96.54861796902313| 92.42759966243042|8509255.043685464|\n",
            "| stddev|23.3274864439079|23.590538442427473|23.019708825126568|23.292869033013766|25.335281463390604|4760478.447370805|\n",
            "|    min|           60.98|         62.330002|         60.200001|             60.84|         53.990601|          2227400|\n",
            "|    max|      153.600006|        153.660004|        151.660004|        152.789993|        152.233536|         56233000|\n",
            "+-------+----------------+------------------+------------------+------------------+------------------+-----------------+\n",
            "\n"
          ]
        }
      ]
    },
    {
      "cell_type": "code",
      "source": [
        "df.filter('Close < 62').show()"
      ],
      "metadata": {
        "colab": {
          "base_uri": "https://localhost:8080/"
        },
        "id": "p5WmZvPcyh0d",
        "outputId": "68aa8a55-133d-40b7-8571-50ca0a7eef47"
      },
      "execution_count": 28,
      "outputs": [
        {
          "output_type": "stream",
          "name": "stdout",
          "text": [
            "+----------+---------+---------+---------+---------+---------+--------+\n",
            "|      Date|     Open|     High|      Low|    Close|Adj Close|  Volume|\n",
            "+----------+---------+---------+---------+---------+---------+--------+\n",
            "|2016-01-20|61.799999|62.330002|60.200001|    60.84|53.990601|17369100|\n",
            "|2016-01-21|    60.98|62.790001|    60.91|61.880001|54.913509|12089200|\n",
            "+----------+---------+---------+---------+---------+---------+--------+\n",
            "\n"
          ]
        }
      ]
    },
    {
      "cell_type": "code",
      "source": [
        "df.filter('Close < 62').select('Open').show()"
      ],
      "metadata": {
        "colab": {
          "base_uri": "https://localhost:8080/"
        },
        "id": "dzDZpdycyhxc",
        "outputId": "7dd22383-b659-403b-808d-07db91e523c1"
      },
      "execution_count": 30,
      "outputs": [
        {
          "output_type": "stream",
          "name": "stdout",
          "text": [
            "+---------+\n",
            "|     Open|\n",
            "+---------+\n",
            "|61.799999|\n",
            "|    60.98|\n",
            "+---------+\n",
            "\n"
          ]
        }
      ]
    },
    {
      "cell_type": "code",
      "source": [
        "df.filter('Close < 62').select('Open').collect()"
      ],
      "metadata": {
        "colab": {
          "base_uri": "https://localhost:8080/"
        },
        "id": "EeYVwv-Pyhu2",
        "outputId": "cfc7e7ac-0656-43cc-f440-eea80eefac7c"
      },
      "execution_count": 31,
      "outputs": [
        {
          "output_type": "execute_result",
          "data": {
            "text/plain": [
              "[Row(Open=61.799999), Row(Open=60.98)]"
            ]
          },
          "metadata": {},
          "execution_count": 31
        }
      ]
    },
    {
      "cell_type": "code",
      "source": [
        "# RDD\n",
        "\n",
        "# Resilient Distributed Datasets (RDD)\n",
        "\n",
        "# In numpy, how everything is built upon ndarray\n",
        "\n",
        "df.rdd"
      ],
      "metadata": {
        "colab": {
          "base_uri": "https://localhost:8080/"
        },
        "id": "egCNnokTyhsL",
        "outputId": "9fe80756-e0ae-4eeb-f7e3-e45d34efe649"
      },
      "execution_count": 32,
      "outputs": [
        {
          "output_type": "execute_result",
          "data": {
            "text/plain": [
              "MapPartitionsRDD[113] at javaToPython at NativeMethodAccessorImpl.java:0"
            ]
          },
          "metadata": {},
          "execution_count": 32
        }
      ]
    },
    {
      "cell_type": "code",
      "source": [
        "df.rdd.getNumPartitions()"
      ],
      "metadata": {
        "colab": {
          "base_uri": "https://localhost:8080/"
        },
        "id": "2pz0VmAZzv1z",
        "outputId": "c97d0c13-0bfe-4dbb-f043-f06b8df17585"
      },
      "execution_count": 35,
      "outputs": [
        {
          "output_type": "execute_result",
          "data": {
            "text/plain": [
              "1"
            ]
          },
          "metadata": {},
          "execution_count": 35
        }
      ]
    },
    {
      "cell_type": "code",
      "source": [
        "rdd_obj = df.rdd"
      ],
      "metadata": {
        "id": "TmnlPG43zvyX"
      },
      "execution_count": 36,
      "outputs": []
    },
    {
      "cell_type": "code",
      "source": [
        "new_rdd = rdd_obj.repartition(4)\n",
        "\n",
        "new_rdd.getNumPartitions()"
      ],
      "metadata": {
        "colab": {
          "base_uri": "https://localhost:8080/"
        },
        "id": "-T6s2fjrzvvR",
        "outputId": "817f34b8-5cc3-40a9-e20c-393eb5aa7a8f"
      },
      "execution_count": 37,
      "outputs": [
        {
          "output_type": "execute_result",
          "data": {
            "text/plain": [
              "4"
            ]
          },
          "metadata": {},
          "execution_count": 37
        }
      ]
    },
    {
      "cell_type": "code",
      "source": [
        "numbers = list(range(1000000))\n"
      ],
      "metadata": {
        "id": "3rkFSyQs0HHp"
      },
      "execution_count": 38,
      "outputs": []
    },
    {
      "cell_type": "code",
      "source": [
        "%time\n",
        "res=filter(lambda i: i % 2,numbers)"
      ],
      "metadata": {
        "colab": {
          "base_uri": "https://localhost:8080/"
        },
        "id": "7XfrIUx80Iz-",
        "outputId": "6338770d-7ffa-49a9-a0e2-40916247135c"
      },
      "execution_count": 65,
      "outputs": [
        {
          "output_type": "stream",
          "name": "stdout",
          "text": [
            "CPU times: user 3 µs, sys: 0 ns, total: 3 µs\n",
            "Wall time: 5.72 µs\n"
          ]
        }
      ]
    },
    {
      "cell_type": "code",
      "source": [
        "from pyspark import SparkContext\n",
        "sc = SparkContext.getOrCreate()"
      ],
      "metadata": {
        "id": "oiHav-St0UOG"
      },
      "execution_count": 41,
      "outputs": []
    },
    {
      "cell_type": "code",
      "source": [
        "RDD_example = sc.parallelize(numbers)\n",
        "print(RDD_example.getNumPartitions())"
      ],
      "metadata": {
        "colab": {
          "base_uri": "https://localhost:8080/"
        },
        "id": "-HMooEq60QVn",
        "outputId": "d7ebb91d-5e70-4ea6-a3f9-83672c8ec135"
      },
      "execution_count": 43,
      "outputs": [
        {
          "output_type": "stream",
          "name": "stdout",
          "text": [
            "2\n"
          ]
        }
      ]
    },
    {
      "cell_type": "code",
      "source": [
        "%time\n",
        "o = RDD_example.filter(lambda i: i % 2) # This would be lot lesser for actual distributed computing"
      ],
      "metadata": {
        "colab": {
          "base_uri": "https://localhost:8080/"
        },
        "id": "S30BBtFb0dAh",
        "outputId": "cf74e47f-b505-47fd-83ee-027b8622640c"
      },
      "execution_count": 55,
      "outputs": [
        {
          "output_type": "stream",
          "name": "stdout",
          "text": [
            "CPU times: user 2 µs, sys: 0 ns, total: 2 µs\n",
            "Wall time: 4.77 µs\n"
          ]
        }
      ]
    },
    {
      "cell_type": "code",
      "source": [],
      "metadata": {
        "id": "1y8YPk4b1zwv"
      },
      "execution_count": null,
      "outputs": []
    }
  ]
}