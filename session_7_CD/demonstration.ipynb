{
 "cells": [
  {
   "cell_type": "code",
   "execution_count": 1,
   "id": "5cab8b82",
   "metadata": {},
   "outputs": [],
   "source": [
    "# Demonstrate how assert works\n",
    "\n",
    "# Basic assert - passes when condition is True\n",
    "assert 5 > 3, \"This should pass\"\n"
   ]
  },
  {
   "cell_type": "code",
   "execution_count": 2,
   "id": "5cda97e9",
   "metadata": {},
   "outputs": [],
   "source": [
    "\n",
    "# Assert with custom error message\n",
    "x = 10\n",
    "assert x == 10, f\"Expected x to be 10, but got {x}\"\n",
    "\n"
   ]
  },
  {
   "cell_type": "code",
   "execution_count": 5,
   "id": "c9ea5d7b",
   "metadata": {},
   "outputs": [
    {
     "ename": "AssertionError",
     "evalue": "Expected x to be 10, but got 15",
     "output_type": "error",
     "traceback": [
      "\u001b[0;31m---------------------------------------------------------------------------\u001b[0m",
      "\u001b[0;31mAssertionError\u001b[0m                            Traceback (most recent call last)",
      "Cell \u001b[0;32mIn[5], line 3\u001b[0m\n\u001b[1;32m      1\u001b[0m \u001b[38;5;66;03m# Assert with custom error message\u001b[39;00m\n\u001b[1;32m      2\u001b[0m x \u001b[38;5;241m=\u001b[39m \u001b[38;5;241m15\u001b[39m\n\u001b[0;32m----> 3\u001b[0m \u001b[38;5;28;01massert\u001b[39;00m x \u001b[38;5;241m==\u001b[39m \u001b[38;5;241m10\u001b[39m, \u001b[38;5;124mf\u001b[39m\u001b[38;5;124m\"\u001b[39m\u001b[38;5;124mExpected x to be 10, but got \u001b[39m\u001b[38;5;132;01m{\u001b[39;00mx\u001b[38;5;132;01m}\u001b[39;00m\u001b[38;5;124m\"\u001b[39m\n",
      "\u001b[0;31mAssertionError\u001b[0m: Expected x to be 10, but got 15"
     ]
    }
   ],
   "source": [
    "\n",
    "# Assert with custom error message\n",
    "x = 15\n",
    "assert x == 10, f\"Expected x to be 10, but got {x}\"\n",
    "\n"
   ]
  },
  {
   "cell_type": "code",
   "execution_count": 8,
   "id": "a8b18691",
   "metadata": {},
   "outputs": [],
   "source": [
    "\n",
    "\n",
    "# Assert that will fail (commented out to avoid stopping execution)\n",
    "# assert 2 > 5, \"This will fail because 2 is not greater than 5\"\n",
    "\n",
    "# Assert with boolean expressions\n",
    "numbers = [1, 2, -3, 4, 5]\n",
    "assert len(numbers) == 5, \"List should have 5 elements\"\n",
    "\n"
   ]
  },
  {
   "cell_type": "code",
   "execution_count": 9,
   "id": "62856fdd",
   "metadata": {},
   "outputs": [
    {
     "ename": "AssertionError",
     "evalue": "All numbers should be positive",
     "output_type": "error",
     "traceback": [
      "\u001b[0;31m---------------------------------------------------------------------------\u001b[0m",
      "\u001b[0;31mAssertionError\u001b[0m                            Traceback (most recent call last)",
      "Cell \u001b[0;32mIn[9], line 1\u001b[0m\n\u001b[0;32m----> 1\u001b[0m \u001b[38;5;28;01massert\u001b[39;00m \u001b[38;5;28mall\u001b[39m(n \u001b[38;5;241m>\u001b[39m \u001b[38;5;241m0\u001b[39m \u001b[38;5;28;01mfor\u001b[39;00m n \u001b[38;5;129;01min\u001b[39;00m numbers), \u001b[38;5;124m\"\u001b[39m\u001b[38;5;124mAll numbers should be positive\u001b[39m\u001b[38;5;124m\"\u001b[39m\n",
      "\u001b[0;31mAssertionError\u001b[0m: All numbers should be positive"
     ]
    }
   ],
   "source": [
    "\n",
    "assert all(n > 0 for n in numbers), \"All numbers should be positive\"\n"
   ]
  },
  {
   "cell_type": "code",
   "execution_count": 10,
   "id": "dea59311",
   "metadata": {},
   "outputs": [
    {
     "name": "stdout",
     "output_type": "stream",
     "text": [
      "All assertions passed!\n"
     ]
    }
   ],
   "source": [
    "\n",
    "# Assert for type checking\n",
    "name = \"Alice\"\n",
    "assert isinstance(name, str), \"Name should be a string\"\n",
    "\n",
    "print(\"All assertions passed!\")"
   ]
  },
  {
   "cell_type": "code",
   "execution_count": null,
   "id": "369355a2",
   "metadata": {},
   "outputs": [],
   "source": []
  },
  {
   "cell_type": "code",
   "execution_count": null,
   "id": "1be14471",
   "metadata": {},
   "outputs": [],
   "source": []
  }
 ],
 "metadata": {
  "kernelspec": {
   "display_name": "appy",
   "language": "python",
   "name": "python3"
  },
  "language_info": {
   "codemirror_mode": {
    "name": "ipython",
    "version": 3
   },
   "file_extension": ".py",
   "mimetype": "text/x-python",
   "name": "python",
   "nbconvert_exporter": "python",
   "pygments_lexer": "ipython3",
   "version": "3.9.6"
  }
 },
 "nbformat": 4,
 "nbformat_minor": 5
}
